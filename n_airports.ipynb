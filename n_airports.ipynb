{
  "cells": [
    {
      "cell_type": "code",
      "execution_count": null,
      "metadata": {
        "colab": {
          "base_uri": "https://localhost:8080/",
          "height": 283
        },
        "id": "FpgClkmtWo58",
        "outputId": "c09e4f88-728d-4027-d7a2-9f2db730b9d8"
      },
      "outputs": [
        {
          "output_type": "execute_result",
          "data": {
            "text/plain": [
              "<module 'matplotlib.pyplot' from '/usr/local/lib/python3.7/dist-packages/matplotlib/pyplot.py'>"
            ]
          },
          "metadata": {},
          "execution_count": 41
        },
        {
          "output_type": "display_data",
          "data": {
            "text/plain": [
              "<Figure size 432x288 with 1 Axes>"
            ],
            "image/png": "[encoded data removed]"
          },
          "metadata": {
            "needs_background": "light"
          }
        }
      ],
      "source": [
        "import random\n",
        "import numpy as np\n",
        "\n",
        "num_city = 100\n",
        "num_air = 3\n",
        "num_center = 5\n",
        "sigma = 0.1\n",
        "cities = set()\n",
        "airports = []\n",
        "\n",
        "for i in range(num_center):\n",
        "    x = random.random()\n",
        "    y = random.random()\n",
        "    xc = np.random.normal(x, sigma, num_city//num_center)\n",
        "    yc = np.random.normal(y, sigma, num_city//num_center)\n",
        "    cities = cities.union(zip(xc, yc))\n",
        "\n",
        "\n",
        "for i in range(num_air):\n",
        "    x = random.random()\n",
        "    y = random.random()\n",
        "    airports.append((x,y)) \n",
        "\n",
        "import matplotlib.pyplot as plt\n",
        "\n",
        "zip_cities = zip(*cities)\n",
        "plt.scatter(*zip_cities, marker='+',color='b', label='Cities')\n",
        "zip_airs = zip(*airports)\n",
        "plt.scatter(*zip_airs, marker='*', color='r', s=100, label='Airports')\n",
        "plt.legend()\n",
        "plt"
      ]
    },
    {
      "cell_type": "code",
      "execution_count": null,
      "metadata": {
        "id": "JcfK39w6Wo59"
      },
      "outputs": [],
      "source": [
        "def objFunc(state, citySets):\n",
        "    # for city in cities:\n",
        "    # (x1 - city[0])**2 + (y1 - city[1])**2\n",
        "    # (xi - xc)**2 + (y1 - yc)**2\n",
        "    objVal = 0\n",
        "    i = 0\n",
        "    for cities in citySets:\n",
        "        for city in cities:\n",
        "            objVal += (state[i]-city[0])**2 + (state[i+1] - city[1])**2\n",
        "        i += 2 #incrementing by 1 gives error 2 works\n",
        "    return objVal\n"
      ]
    },
    {
      "cell_type": "code",
      "execution_count": null,
      "metadata": {
        "id": "GdHUe7wqWo5-"
      },
      "outputs": [],
      "source": [
        "def calcGrad(airports, citySets):\n",
        "    # grad : [df/dx1, df/y1, ..]\n",
        "    # grad = [] * len(airports) * 2\n",
        "\n",
        "    grad = []\n",
        "    # [0, 0, 0, 0, 0, 0, 0] -- length\n",
        "    # dfdx1 = 2(x - x_c)\n",
        "    # grad.append(df/dx1)\n",
        "    \n",
        "    dxGradient = 0\n",
        "    dyGradient = 0\n",
        "    \n",
        "    # https://realpython.com/python-enumerate/\n",
        "    for i, airport in enumerate(airports):\n",
        "        \n",
        "        for j, cityinSet in enumerate(citySets[i]):\n",
        "            \n",
        "            # dfdx1 = 2(x - x_c)\n",
        "            #df/dx1, df/dy1, df/dx2, df/dy2, ...\n",
        "            dxGradient = dxGradient + 2 * (airport[0] - cityinSet[0])\n",
        "            dyGradient = dyGradient + 2 * (airport[1] - cityinSet[1])\n",
        "            \n",
        "        grad.append(dxGradient)\n",
        "        grad.append(dyGradient)\n",
        "        \n",
        "    return grad"
      ]
    },
    {
      "cell_type": "code",
      "execution_count": null,
      "metadata": {
        "id": "nNWrVF-_Wo5_"
      },
      "outputs": [],
      "source": [
        "import math\n",
        "\n",
        "def distance(airport, city):\n",
        "    # distance = math.sqrt( ((p1[0]-p2[0])**2)+((p1[1]-p2[1])**2) )\n",
        "    distance = math.sqrt((airport[0] - city[0])**2 + (airport[1] - city[1])**2)\n",
        "    \n",
        "    return distance\n",
        "    "
      ]
    },
    {
      "cell_type": "code",
      "execution_count": null,
      "metadata": {
        "id": "SSrQUMg9Wo5_"
      },
      "outputs": [],
      "source": [
        "def calcCitySets(airports, cities):\n",
        "    # list of size == len(airports)\n",
        "    # citySets: [[airport1Cities], [airport2Cities], [airport2Cities]]\n",
        "    citySets = []\n",
        "\n",
        "    for i in range(len(airports)):\n",
        "      citySets.append([])\n",
        "        \n",
        "      # Create a new function to find closesAirport\n",
        "    for city in cities:\n",
        "      closestAirportIndex = 0\n",
        "      #np.sqrt(np.dot(temp.T, temp))\n",
        "      smallestDist = distance(airports[0], city)\n",
        "      for i, airport in enumerate(airports[1:]):\n",
        "        curr = distance(airport, city)\n",
        "        if curr < smallestDist:\n",
        "            closestAirportIndex = i + 1\n",
        "            smallestDist = curr\n",
        "      citySets[closestAirportIndex].append(city)\n",
        "            # print(citySets)\n",
        "    return citySets\n"
      ]
    },
    {
      "cell_type": "code",
      "execution_count": null,
      "metadata": {
        "id": "e4oWVbfhWo6A"
      },
      "outputs": [],
      "source": [
        "# update current state until either (1) # of epochs or (2) % change within threshold\n",
        "# gradient descent\n",
        "def gradDescent(airports, cities):\n",
        "    state = []\n",
        "    for pair in airports:\n",
        "        # append x coord\n",
        "        state.append(pair[0])\n",
        "        # append y cord\n",
        "        state.append(pair[1])\n",
        "\n",
        "    # state is stored within the airports list\n",
        "    delta = .00001\n",
        "    percentChange = 1\n",
        "    \n",
        "    airports = []\n",
        "    for i in range(0, len(state), 2):\n",
        "        airports.append([state[i],state[i+1]])\n",
        "\n",
        "    # list of size 3, len(citySets) == 3\n",
        "    citySets = calcCitySets(airports, cities)\n",
        "\n",
        "    objValues = []\n",
        "    objValues.append(objFunc(state, citySets))\n",
        "\n",
        "    # for i in range(len(airports)):\n",
        "    # citySets.append(calcCitySets(cities, airports))\n",
        "    # numberofepochs = 0\n",
        "    # epoch -- NOT USING EPOCHS USING DELTA\n",
        "    # while numberofepochs < maxEpochs:\n",
        "    # delta\n",
        "    while percentChange > delta:\n",
        "        # update state\n",
        "        # state: [x1, y1, x2, y2, x3, y3]\n",
        "        # calcGrad return: [df/dx1, df/y1, ..]\n",
        "\n",
        "        # compute gradient\n",
        "        airports = []\n",
        "        for i in range(0, len(state), 2):\n",
        "            airports.append([state[i], state[i+1]])\n",
        "        \n",
        "        gradVector = calcGrad(airports, citySets)\n",
        "\n",
        "        # move state\n",
        "        alpha = .01\n",
        "        # airports = airports - alpha * calcGrad(airports)\n",
        "        for i in range(len(state)):\n",
        "            state[i] = state[i] - alpha * gradVector[i]\n",
        "            \n",
        "        airports = []\n",
        "        for i in range(0, len(state), 2):\n",
        "            airports.append([state[i], state[i+1]])\n",
        "\n",
        "        # calc new city sets\n",
        "        citySets = calcCitySets(airports, cities)\n",
        "\n",
        "        # store obj func value\n",
        "        objValues.append(objFunc(state, citySets))\n",
        "\n",
        "        # calc percent change\n",
        "        currVal = objValues[-1]\n",
        "        previousValue = objValues[-2]\n",
        "        percentChange = abs((previousValue - currVal) / previousValue)\n",
        "\n",
        "\n",
        "    return state, objValues"
      ]
    },
    {
      "cell_type": "code",
      "execution_count": null,
      "metadata": {
        "id": "2Uhhn26-Wo6B"
      },
      "outputs": [],
      "source": [
        "def plot(objValues):\n",
        "    plt2 = plt.figure(2)\n",
        "    plt.scatter(range(len(objValues)), objValues)"
      ]
    },
    {
      "cell_type": "code",
      "execution_count": null,
      "metadata": {
        "scrolled": false,
        "colab": {
          "base_uri": "https://localhost:8080/",
          "height": 516
        },
        "id": "ChfX24s6Wo6B",
        "outputId": "468beb13-2b51-4f86-b244-2250ff682f37"
      },
      "outputs": [
        {
          "output_type": "display_data",
          "data": {
            "text/plain": [
              "<Figure size 432x288 with 1 Axes>"
            ],
            "image/png": "[encoded data removed]"
          },
          "metadata": {
            "needs_background": "light"
          }
        },
        {
          "output_type": "display_data",
          "data": {
            "text/plain": [
              "<Figure size 432x288 with 1 Axes>"
            ],
            "image/png": "[encoded data removed]"
          },
          "metadata": {
            "needs_background": "light"
          }
        }
      ],
      "source": [
        "#Driver\n",
        "states, objValues = gradDescent(airports, cities)\n",
        "\n",
        "movedAirports = []\n",
        "for i in range(0, len(states), 2):\n",
        "    movedAirports.append([states[i],states[i+1]])\n",
        "\n",
        "# Increase your alpha value\n",
        "# And decrease your delta\n",
        "#You need to convert states back to the same format as airports to us the code below\n",
        "zip_cities = zip(*cities)\n",
        "plt.scatter(*zip_cities, marker='+',color='b', label='Cities')\n",
        "zip_airs = zip(*airports)\n",
        "plt.scatter(*zip_airs, marker='*', color='r', s=100, label='Airports')\n",
        "zip_newA = zip(*movedAirports)\n",
        "plt.scatter(*zip_newA, marker='*', color='teal', s=100, label='Moved Airports')\n",
        "plt.legend()\n",
        "plt\n",
        "\n",
        "plot(objValues)"
      ]
    },
    {
      "cell_type": "code",
      "execution_count": null,
      "metadata": {
        "id": "i7BxJ3LWWo6C"
      },
      "outputs": [],
      "source": [
        ""
      ]
    }
  ],
  "metadata": {
    "kernelspec": {
      "display_name": "Python 3 (ipykernel)",
      "language": "python",
      "name": "python3"
    },
    "language_info": {
      "codemirror_mode": {
        "name": "ipython",
        "version": 3
      },
      "file_extension": ".py",
      "mimetype": "text/x-python",
      "name": "python",
      "nbconvert_exporter": "python",
      "pygments_lexer": "ipython3",
      "version": "3.9.7"
    },
    "colab": {
      "name": "n-airports.ipynb",
      "provenance": [],
      "collapsed_sections": []
    }
  },
  "nbformat": 4,
  "nbformat_minor": 0
}